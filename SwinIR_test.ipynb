{
  "cells": [
    {
      "cell_type": "markdown",
      "metadata": {
        "id": "view-in-github",
        "colab_type": "text"
      },
      "source": [
        "<a href=\"https://colab.research.google.com/github/sinichi449/SwinIR/blob/main/SwinIR_test.ipynb\" target=\"_parent\"><img src=\"https://colab.research.google.com/assets/colab-badge.svg\" alt=\"Open In Colab\"/></a>"
      ]
    },
    {
      "cell_type": "markdown",
      "metadata": {
        "id": "uvKdV-EzhIom"
      },
      "source": [
        "# Preparation"
      ]
    },
    {
      "cell_type": "code",
      "execution_count": null,
      "metadata": {
        "id": "5V2iVSYFNPJ5"
      },
      "outputs": [],
      "source": [
        "!git clone https://github.com/sinichi449/SwinIR.git"
      ]
    },
    {
      "cell_type": "code",
      "execution_count": null,
      "metadata": {
        "id": "4szjX40YZLaz"
      },
      "outputs": [],
      "source": [
        "%cd /content/SwinIR"
      ]
    },
    {
      "cell_type": "code",
      "execution_count": null,
      "metadata": {
        "id": "NARaa44RZoT3"
      },
      "outputs": [],
      "source": [
        "!pip install timm"
      ]
    },
    {
      "cell_type": "code",
      "execution_count": 4,
      "metadata": {
        "id": "LyIXUVZTlU2Y"
      },
      "outputs": [],
      "source": [
        "!mkdir testsets/Own"
      ]
    },
    {
      "cell_type": "markdown",
      "metadata": {
        "id": "fehdv5J4hMA-"
      },
      "source": [
        "# Upload Low-Quality Images"
      ]
    },
    {
      "cell_type": "code",
      "execution_count": null,
      "metadata": {
        "id": "Jw16ND3HnqdY"
      },
      "outputs": [],
      "source": [
        "import os\n",
        "from google.colab import files\n",
        "\n",
        "uploaded = files.upload()\n",
        "\n",
        "for i in uploaded.keys():\n",
        "  os.system(f'mv {i} testsets/Own/')"
      ]
    },
    {
      "cell_type": "markdown",
      "metadata": {
        "id": "SzPUq2ZXhSis"
      },
      "source": [
        "# Processing the Images to High-Res"
      ]
    },
    {
      "cell_type": "code",
      "execution_count": null,
      "metadata": {
        "id": "QE0TB1vZZQrF"
      },
      "outputs": [],
      "source": [
        "!python main_test_swinir.py \\\n",
        "    --task real_sr \\\n",
        "    --scale 4 \\\n",
        "    --large_model \\\n",
        "    --model_path model_zoo/swinir/003_realSR_BSRGAN_DFOWMFC_s64w8_SwinIR-L_x4_GAN.pth \\\n",
        "    --folder_lq testsets/Own \\\n",
        "    --tile 400"
      ]
    },
    {
      "cell_type": "markdown",
      "metadata": {
        "id": "7vVrp8D0hYW9"
      },
      "source": [
        "# Zipping the Results"
      ]
    },
    {
      "cell_type": "code",
      "execution_count": null,
      "metadata": {
        "id": "0D8mODBz6tKd"
      },
      "outputs": [],
      "source": [
        "!cd /content/SwinIR/results/swinir_real_sr_x4_large/ && \\\n",
        "zip results.zip *"
      ]
    },
    {
      "cell_type": "markdown",
      "metadata": {
        "id": "7G4LsGANhauC"
      },
      "source": [
        "# Download as GDrive? or Regular Download"
      ]
    },
    {
      "cell_type": "code",
      "execution_count": null,
      "metadata": {
        "id": "TWc4tUGxV7H2"
      },
      "outputs": [],
      "source": [
        "from google.colab import drive\n",
        "\n",
        "drive.mount('/content/gdrive')"
      ]
    },
    {
      "cell_type": "code",
      "execution_count": null,
      "metadata": {
        "id": "D7YJv17aWOek"
      },
      "outputs": [],
      "source": [
        "!cp /content/SwinIR/results/swinir_real_sr_x4_large/results.zip /content/gdrive/MyDrive/"
      ]
    },
    {
      "cell_type": "markdown",
      "metadata": {
        "id": "b8VwHbDUhgNn"
      },
      "source": [
        "# Cleaning Up"
      ]
    },
    {
      "cell_type": "code",
      "execution_count": null,
      "metadata": {
        "id": "jFupFSJqpBVN"
      },
      "outputs": [],
      "source": [
        "!rm -rf testsets/Own/*"
      ]
    },
    {
      "cell_type": "code",
      "execution_count": null,
      "metadata": {
        "id": "BgHBjf-_590G"
      },
      "outputs": [],
      "source": [
        "!rm -rf results/swinir_real_sr_x4_large/*"
      ]
    }
  ],
  "metadata": {
    "accelerator": "GPU",
    "colab": {
      "collapsed_sections": [
        "uvKdV-EzhIom"
      ],
      "name": "SwinIR_test.ipynb",
      "provenance": [],
      "include_colab_link": true
    },
    "kernelspec": {
      "display_name": "Python 3",
      "name": "python3"
    },
    "language_info": {
      "name": "python"
    }
  },
  "nbformat": 4,
  "nbformat_minor": 0
}